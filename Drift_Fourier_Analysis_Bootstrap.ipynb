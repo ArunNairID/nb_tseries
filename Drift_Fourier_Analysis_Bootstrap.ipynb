{
 "cells": [
  {
   "cell_type": "markdown",
   "metadata": {},
   "source": [
    "# Trend analysis with bootstrap resampling"
   ]
  },
  {
   "cell_type": "markdown",
   "metadata": {},
   "source": [
    "Python / Numpy implementation of the trend analysis presented in [Gardiner et al., 2008][1]\n",
    "\n",
    "The following model is used to fit the annual trend (drift) + intra-annual variability (i.e., fourier series tuncated at $n$ degrees):\n",
    "\n",
    "$$ F(t, p, \\alpha, \\mathrm{{\\mathbf \\beta}}) = p + \\alpha t + \\left[\\beta_1 \\cos(\\frac{\\pi t}{L}) + \\beta_2 \\sin(\\frac{\\pi t}{L}) + \\beta_3 \\cos(\\frac{2 \\pi t}{L}) + \\beta_4 \\sin(\\frac{2 \\pi t}{L}) + \\cdots +  \\beta_{2n-1} \\cos(\\frac{n \\pi t}{L}) + \\beta_{2n} \\sin(\\frac{n \\pi t}{L}) \\right]$$\n",
    "\n",
    "where $p$ is the intercept, $\\alpha$ is the trend (slope), $\\mathrm{{\\mathbf \\beta}}$ are the truncated fourier series parameters, and $L$ is the half-period (= 0.5 if $t$ is in years).\n",
    "\n",
    "Model parameters are estimated using the weighted linear least squares method. Bootstrap resampling can be used to evaluate the confidence intervals on the parameter estimates (more robust in case of non-normally distributed random effects in the data).\n",
    "\n",
    "Author: B. Bovy | GIRPAS, ULg\n",
    "\n",
    "[1]: http://dx.doi.org/10.5194/acp-8-6719-2008"
   ]
  },
  {
   "cell_type": "code",
   "execution_count": 1,
   "metadata": {
    "collapsed": false
   },
   "outputs": [],
   "source": [
    "import pprint\n",
    "\n",
    "import numpy as np\n",
    "import matplotlib.pyplot as plt\n",
    "import seaborn as sns\n",
    "\n",
    "%matplotlib inline"
   ]
  },
  {
   "cell_type": "markdown",
   "metadata": {},
   "source": [
    "## Implementation"
   ]
  },
  {
   "cell_type": "code",
   "execution_count": 2,
   "metadata": {
    "collapsed": false
   },
   "outputs": [],
   "source": [
    "def fourier_basis(x, degree, half_period):\n",
    "    \"\"\"Returns a 2-d array of fourier basis.\"\"\"\n",
    "    A = np.ones((x.size, 2 * degree + 1))\n",
    "    \n",
    "    for d in range(1, degree + 1):\n",
    "        A[:, 2*d-1] = np.cos(d * np.pi * x / half_period)\n",
    "        A[:, 2*d] = np.sin(d * np.pi * x / half_period)\n",
    "    \n",
    "    return A\n",
    "\n",
    "\n",
    "def fit_driftfourier(x, data, weights, degree, half_period=0.5):\n",
    "    \"\"\"\n",
    "    Fit y = f(x - x.min()) to data where f is given by\n",
    "    fourier series + drift.\n",
    "    \n",
    "    Parameters\n",
    "    ----------\n",
    "    x : 1-d array\n",
    "        x-coordinates\n",
    "    data : 1-d array\n",
    "        data values\n",
    "    weights : 1-d array\n",
    "        weights (>=0)\n",
    "    degree : int\n",
    "        degree of fourier series\n",
    "    half_period : float\n",
    "        half period\n",
    "    \n",
    "    Returns\n",
    "    -------\n",
    "    intercept : float\n",
    "        intercept at x.min()\n",
    "    slope : float\n",
    "        slope (drift) for the normalized data\n",
    "        (x - x.min())\n",
    "    pfourier : 1-d array\n",
    "        Fourier series parameters for the\n",
    "        normalized data\n",
    "    f_drift : callable\n",
    "        Can be used to calculate the drift\n",
    "        given any (non-normalized) x\n",
    "    f_fourier : callable\n",
    "        Can be used to calculate fourier series\n",
    "    f_driftfourier : callable\n",
    "        Can be used to calculate drift + fourier\n",
    "    residual_std : float\n",
    "        estimated standard deviation of residuals\n",
    "    A : 2-d array\n",
    "        matrix of \"coefficients\"\n",
    "    \n",
    "    \"\"\"\n",
    "    xmin = x.min()\n",
    "    xnorm = x - xmin\n",
    "    \n",
    "    # coefficient matrix\n",
    "    A = np.ones((x.size, 2 * degree + 2))\n",
    "    A[:, 1] = xnorm\n",
    "    A[:, 2:] = fourier_basis(xnorm, degree, half_period)[:, 1:]\n",
    "    \n",
    "    # linear weighted least squares\n",
    "    results = np.linalg.lstsq(A * weights[:, np.newaxis],\n",
    "                              data * weights)\n",
    "    \n",
    "    params = results[0]\n",
    "    intercept = params[0]\n",
    "    slope = params[1]\n",
    "    pfourier = params[2:]\n",
    "    \n",
    "    f_drift = lambda t: slope * (t - xmin) + intercept\n",
    "    f_fourier = lambda t: np.sum(fourier_basis(t - xmin, degree,\n",
    "                                               half_period)[:, 1:]\n",
    "                                 * pfourier[np.newaxis, :],\n",
    "                                 axis=1) + intercept\n",
    "    f_driftfourier = lambda t: f_drift(t) + f_fourier(t) - intercept\n",
    "    \n",
    "    residual_std = np.sqrt(results[1][0] / (x.size - 2 * degree + 2)) \n",
    "    \n",
    "    return (intercept, slope, pfourier,\n",
    "            f_drift, f_fourier, f_driftfourier,\n",
    "            residual_std, A)\n",
    "\n",
    "\n",
    "def cf_driftfourier(x, data, weights, degree,\n",
    "                    half_period=0.5, nboot=5000,\n",
    "                    percentiles=(2.5, 50., 97.5)):\n",
    "    \"\"\"\n",
    "    Calculate confidence intervals for the fitted\n",
    "    parameters from fourier series + drift modelling,\n",
    "    using bootstrap resampling.\n",
    "    \n",
    "    Parameters\n",
    "    ----------\n",
    "    nboot : int\n",
    "        number of bootstrap replicates\n",
    "    percentiles : sequence of floats\n",
    "        percentiles of parameter estimate\n",
    "        distributions to return \n",
    "    \n",
    "    Returns\n",
    "    -------\n",
    "    perc : dict\n",
    "        percentiles for of each parameter\n",
    "        distribution\n",
    "    intercept : 1-d array\n",
    "        intercept estimates from bootstraped\n",
    "        datasets.\n",
    "    slope : 1-d array\n",
    "        slope estimates\n",
    "    pfourier : 2-d array\n",
    "        fourier parameters estimates\n",
    "    \n",
    "    See Also\n",
    "    --------\n",
    "    :func:`fit_driftfourier`\n",
    "    \"\"\"\n",
    "    \n",
    "    # 1st fit without bootstraping\n",
    "    results = fit_driftfourier(x, data, weights,\n",
    "                               degree, half_period)\n",
    "    f_driftfourier = results[5]\n",
    "    A = results[7]\n",
    "    model = f_driftfourier(x)\n",
    "    residuals = data - model\n",
    "    \n",
    "    # generate bootstrap resamples of residuals\n",
    "    # and new datasets from these resamples\n",
    "    boot_dataset = np.empty((x.size, nboot))\n",
    "    for i in range(nboot):\n",
    "        resample_i = np.floor(np.random.rand(x.size) * x.size).astype(int)\n",
    "        resample_residuals = residuals[resample_i]\n",
    "        boot_dataset[:, i] = model + resample_residuals\n",
    "    \n",
    "    # fit all bootstrap datasets\n",
    "    results_boot = np.linalg.lstsq(A * weights[:, np.newaxis],\n",
    "                                   boot_dataset * weights[:, np.newaxis])\n",
    "    \n",
    "    params_boot = results_boot[0]\n",
    "    \n",
    "    # compute percentiles\n",
    "    perc_boot = np.column_stack(np.percentile(params_boot,\n",
    "                                              percentiles, axis=1))\n",
    "    \n",
    "    perc = {'intercept' : perc_boot[0],\n",
    "            'slope' : perc_boot[1],\n",
    "            'pfourier' : perc_boot[2:]}\n",
    "    \n",
    "    intercept = params_boot[0]\n",
    "    slope = params_boot[1]\n",
    "    pfourier = params_boot[2:]\n",
    "    \n",
    "    return perc, intercept, slope, pfourier\n",
    "    "
   ]
  },
  {
   "cell_type": "markdown",
   "metadata": {},
   "source": [
    "## Test data"
   ]
  },
  {
   "cell_type": "markdown",
   "metadata": {},
   "source": [
    "A test with a dataset generated from given trend and intra-annual variability, with random noise."
   ]
  },
  {
   "cell_type": "code",
   "execution_count": 3,
   "metadata": {
    "collapsed": false
   },
   "outputs": [
    {
     "name": "stdout",
     "output_type": "stream",
     "text": [
      "fitted trend (slope): 0.10121480221453186\n",
      "fitted intercept at xmin: 1.9929242719095708\n",
      "fitted fourier parameters: [ 0.3725897  -0.13916781 -0.0016657   0.00325461]\n",
      "std of residuals: 0.04965929108657873\n"
     ]
    },
    {
     "data": {
      "text/plain": [
       "<matplotlib.legend.Legend at 0x7efc7cac72e8>"
      ]
     },
     "execution_count": 3,
     "metadata": {},
     "output_type": "execute_result"
    },
    {
     "data": {
      "image/png": "[encoded data removed]",
      "text/plain": [
       "<matplotlib.figure.Figure at 0x7efc7cadac18>"
      ]
     },
     "metadata": {},
     "output_type": "display_data"
    }
   ],
   "source": [
    "sns.set_context(\"notebook\")\n",
    "np.random.seed(seed=0)\n",
    "\n",
    "intercept = 2.\n",
    "trend = 0.1\n",
    "variability = 0.4\n",
    "noise = 0.05\n",
    "\n",
    "x = np.arange(2009, 2012, 0.01)\n",
    "x += np.random.random(size=x.size) * 0.1 \n",
    "y = variability * np.cos(x * np.pi / 0.5) + trend * (x - x.min()) + intercept\n",
    "y += np.random.normal(scale=noise, size=y.size)\n",
    "w = np.ones_like(x)\n",
    "\n",
    "res = fit_driftfourier(x, y, w, 2)\n",
    "\n",
    "print(\"fitted trend (slope): {}\".format(res[1]))\n",
    "print(\"fitted intercept at xmin: {}\".format(res[0]))\n",
    "print(\"fitted fourier parameters: {}\".format(res[2]))\n",
    "print(\"std of residuals: {}\".format(res[6]))\n",
    "\n",
    "f_drift, f_fourier, f_driftfourier = res[3:6]\n",
    "\n",
    "plt.scatter(x, y, label='data')\n",
    "plt.plot(x, f_drift(x), label='fitted annual trend')\n",
    "plt.plot(x, f_driftfourier(x),\n",
    "         label='fitted annual trend + intra-annual variability')\n",
    "plt.legend()"
   ]
  },
  {
   "cell_type": "markdown",
   "metadata": {},
   "source": [
    "Statistical significance using bootstrap resampling: 2.5%, 50% and 97.5% percentiles for each fitted parameter and histogram of the distribution obtained for the annual trend (slope) and intercept estimates."
   ]
  },
  {
   "cell_type": "code",
   "execution_count": 4,
   "metadata": {
    "collapsed": false
   },
   "outputs": [
    {
     "name": "stdout",
     "output_type": "stream",
     "text": [
      "{'intercept': array([ 1.98152376,  1.99281233,  2.00459845]),\n",
      " 'pfourier': array([[ 0.36480368,  0.37266487,  0.38059166],\n",
      "       [-0.14720898, -0.13925057, -0.13075194],\n",
      "       [-0.00928356, -0.00159154,  0.00640595],\n",
      "       [-0.00456552,  0.00319257,  0.01144754]]),\n",
      " 'slope': array([ 0.09453977,  0.10123101,  0.10780417])}\n"
     ]
    },
    {
     "data": {
      "text/plain": [
       "<matplotlib.axes._subplots.AxesSubplot at 0x7efc7c9934a8>"
      ]
     },
     "execution_count": 4,
     "metadata": {},
     "output_type": "execute_result"
    },
    {
     "data": {
      "image/png": "[encoded data removed]",
      "text/plain": [
       "<matplotlib.figure.Figure at 0x7efc96e6c630>"
      ]
     },
     "metadata": {},
     "output_type": "display_data"
    }
   ],
   "source": [
    "cf, intercept, slope, pfourier = cf_driftfourier(x, y, w, 2,\n",
    "                                                 nboot=5000,\n",
    "                                                 percentiles=(2.5, 50., 97.5))\n",
    "\n",
    "pprint.pprint(cf)\n",
    "\n",
    "f, axes = plt.subplots(1, 2, figsize=(10, 3))\n",
    "sns.distributions.distplot(slope, kde=False, ax=axes[0])\n",
    "sns.distributions.distplot(intercept, kde=False, ax=axes[1])"
   ]
  },
  {
   "cell_type": "code",
   "execution_count": null,
   "metadata": {
    "collapsed": false
   },
   "outputs": [],
   "source": []
  }
 ],
 "metadata": {
  "kernelspec": {
   "display_name": "Anaconda (py34)",
   "language": "python",
   "name": "anaconda_py34"
  },
  "language_info": {
   "codemirror_mode": {
    "name": "ipython",
    "version": 3
   },
   "file_extension": ".py",
   "mimetype": "text/x-python",
   "name": "python",
   "nbconvert_exporter": "python",
   "pygments_lexer": "ipython3",
   "version": "3.4.3"
  }
 },
 "nbformat": 4,
 "nbformat_minor": 0
}
