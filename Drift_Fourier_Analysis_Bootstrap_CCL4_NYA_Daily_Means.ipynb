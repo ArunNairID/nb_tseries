{
 "cells": [
  {
   "cell_type": "markdown",
   "metadata": {},
   "source": [
    "# Trend analysis with bootstrap resampling"
   ]
  },
  {
   "cell_type": "markdown",
   "metadata": {},
   "source": [
    "Python / Numpy implementation of the trend analysis presented in [Gardiner et al., 2008][1]\n",
    "\n",
    "The following model is used to fit the annual trend (drift) + intra-annual variability (i.e., fourier series tuncated at $n$ degrees):\n",
    "\n",
    "$$ F(t, p, \\alpha, \\mathrm{{\\mathbf \\beta}}) = p + \\alpha t + \\left[\\beta_1 \\cos(\\frac{\\pi t}{L}) + \\beta_2 \\sin(\\frac{\\pi t}{L}) + \\beta_3 \\cos(\\frac{2 \\pi t}{L}) + \\beta_4 \\sin(\\frac{2 \\pi t}{L}) + \\cdots +  \\beta_{2n-1} \\cos(\\frac{n \\pi t}{L}) + \\beta_{2n} \\sin(\\frac{n \\pi t}{L}) \\right]$$\n",
    "\n",
    "where $p$ is the intercept, $\\alpha$ is the trend (slope), $\\mathrm{{\\mathbf \\beta}}$ are the truncated fourier series parameters, and $L$ is the half-period (= 0.5 if $t$ is in years).\n",
    "\n",
    "Model parameters are estimated using the weighted linear least squares method. Bootstrap resampling can be used to evaluate the confidence intervals on the parameter estimates (more robust in case of non-normally distributed random effects in the data).\n",
    "\n",
    "Author: B. Bovy | GIRPAS, ULg\n",
    "\n",
    "[1]: http://dx.doi.org/10.5194/acp-8-6719-2008"
   ]
  },
  {
   "cell_type": "code",
   "execution_count": 1,
   "metadata": {
    "collapsed": false
   },
   "outputs": [],
   "source": [
    "from datetime import datetime, timedelta\n",
    "\n",
    "import numpy as np\n",
    "import matplotlib.pyplot as plt\n",
    "import pandas as pd\n",
    "import seaborn as sns\n",
    "\n",
    "%matplotlib inline\n",
    "sns.set_context('notebook')"
   ]
  },
  {
   "cell_type": "markdown",
   "metadata": {},
   "source": [
    "## Implementation"
   ]
  },
  {
   "cell_type": "code",
   "execution_count": 2,
   "metadata": {
    "collapsed": false
   },
   "outputs": [],
   "source": [
    "def fourier_basis(x, degree, half_period):\n",
    "    \"\"\"Returns a 2-d array of fourier basis.\"\"\"\n",
    "    A = np.ones((x.size, 2 * degree + 1))\n",
    "    \n",
    "    for d in range(1, degree + 1):\n",
    "        A[:, 2*d-1] = np.cos(d * np.pi * x / half_period)\n",
    "        A[:, 2*d] = np.sin(d * np.pi * x / half_period)\n",
    "    \n",
    "    return A\n",
    "\n",
    "\n",
    "def fit_driftfourier(x, data, weights, degree, half_period=0.5):\n",
    "    \"\"\"\n",
    "    Fit y = f(x - x.min()) to data where f is given by\n",
    "    fourier series + drift.\n",
    "    \n",
    "    Parameters\n",
    "    ----------\n",
    "    x : 1-d array\n",
    "        x-coordinates\n",
    "    data : 1-d array\n",
    "        data values\n",
    "    weights : 1-d array\n",
    "        weights (>=0)\n",
    "    degree : int\n",
    "        degree of fourier series\n",
    "    half_period : float\n",
    "        half period\n",
    "    \n",
    "    Returns\n",
    "    -------\n",
    "    intercept : float\n",
    "        intercept at x.min()\n",
    "    slope : float\n",
    "        slope (drift) for the normalized data\n",
    "        (x - x.min())\n",
    "    pfourier : 1-d array\n",
    "        Fourier series parameters for the\n",
    "        normalized data\n",
    "    f_drift : callable\n",
    "        Can be used to calculate the drift\n",
    "        given any (non-normalized) x\n",
    "    f_fourier : callable\n",
    "        Can be used to calculate fourier series\n",
    "    f_driftfourier : callable\n",
    "        Can be used to calculate drift + fourier\n",
    "    residual_std : float\n",
    "        estimated standard deviation of residuals\n",
    "    A : 2-d array\n",
    "        matrix of \"coefficients\"\n",
    "    \n",
    "    \"\"\"\n",
    "    xmin = x.min()\n",
    "    xnorm = x - xmin\n",
    "    \n",
    "    # coefficient matrix\n",
    "    A = np.ones((x.size, 2 * degree + 2))\n",
    "    A[:, 1] = xnorm\n",
    "    A[:, 2:] = fourier_basis(xnorm, degree, half_period)[:, 1:]\n",
    "    \n",
    "    # linear weighted least squares\n",
    "    results = np.linalg.lstsq(A * weights[:, np.newaxis],\n",
    "                              data * weights)\n",
    "    \n",
    "    params = results[0]\n",
    "    intercept = params[0]\n",
    "    slope = params[1]\n",
    "    pfourier = params[2:]\n",
    "    \n",
    "    f_drift = lambda t: slope * (t - xmin) + intercept\n",
    "    f_fourier = lambda t: np.sum(fourier_basis(t - xmin, degree,\n",
    "                                               half_period)[:, 1:]\n",
    "                                 * pfourier[np.newaxis, :],\n",
    "                                 axis=1) + intercept\n",
    "    f_driftfourier = lambda t: f_drift(t) + f_fourier(t) - intercept\n",
    "    \n",
    "    residual_std = np.sqrt(results[1][0] / (x.size - 2 * degree + 2)) \n",
    "    \n",
    "    return (intercept, slope, pfourier,\n",
    "            f_drift, f_fourier, f_driftfourier,\n",
    "            residual_std, A)\n",
    "\n",
    "\n",
    "def cf_driftfourier(x, data, weights, degree,\n",
    "                    half_period=0.5, nboot=5000,\n",
    "                    percentiles=(2.5, 50., 97.5)):\n",
    "    \"\"\"\n",
    "    Calculate confidence intervals for the fitted\n",
    "    parameters from fourier series + drift modelling,\n",
    "    using bootstrap resampling.\n",
    "    \n",
    "    Parameters\n",
    "    ----------\n",
    "    nboot : int\n",
    "        number of bootstrap replicates\n",
    "    percentiles : sequence of floats\n",
    "        percentiles of parameter estimate\n",
    "        distributions to return \n",
    "    \n",
    "    Returns\n",
    "    -------\n",
    "    perc : dict\n",
    "        percentiles for each parameter\n",
    "        distribution.\n",
    "    boot_intercept : 1-d array\n",
    "        intercept estimates from bootstrapped\n",
    "        datasets.\n",
    "    boot_slope : 1-d array\n",
    "        slope estimates.\n",
    "    boot_pfourier : 2-d array\n",
    "        fourier parameters estimates.\n",
    "    \n",
    "    See Also\n",
    "    --------\n",
    "    :func:`fit_driftfourier`\n",
    "    \n",
    "    \"\"\"\n",
    "    # first fit without bootstrapping\n",
    "    results = fit_driftfourier(x, data, weights,\n",
    "                               degree, half_period)\n",
    "    f_driftfourier = results[5]\n",
    "    A = results[7]\n",
    "    model = f_driftfourier(x)\n",
    "    residuals = data - model\n",
    "    \n",
    "    # generate bootstrap resamples of residuals\n",
    "    # and new datasets from these resamples\n",
    "    resample_residuals = np.random.choice(\n",
    "        residuals, size=(x.size, nboot), replace=True\n",
    "    )\n",
    "    boot_dataset = model[:, np.newaxis] + resample_residuals\n",
    "    \n",
    "    # fit all bootstrap datasets at once\n",
    "    results_boot = np.linalg.lstsq(A * weights[:, np.newaxis],\n",
    "                                   boot_dataset * weights[:, np.newaxis])\n",
    "    \n",
    "    params_boot = results_boot[0]\n",
    "    \n",
    "    # compute percentiles\n",
    "    perc_boot = np.column_stack(\n",
    "        np.percentile(params_boot, percentiles, axis=1)\n",
    "    )\n",
    "    \n",
    "    perc = {'intercept' : perc_boot[0],\n",
    "            'slope' : perc_boot[1],\n",
    "            'pfourier' : perc_boot[2:]}\n",
    "    \n",
    "    intercept = params_boot[0]\n",
    "    slope = params_boot[1]\n",
    "    pfourier = params_boot[2:]\n",
    "    \n",
    "    return perc, intercept, slope, pfourier\n",
    "    "
   ]
  },
  {
   "cell_type": "code",
   "execution_count": 3,
   "metadata": {
    "collapsed": true
   },
   "outputs": [],
   "source": [
    "def get_slope_percent(slope, intercept):\n",
    "    \"\"\"\n",
    "    Express `slope` as percentage, taking\n",
    "    the `intercept` value as reference (100%).\n",
    "    \"\"\"\n",
    "    return slope / intercept * 100."
   ]
  },
  {
   "cell_type": "markdown",
   "metadata": {},
   "source": [
    "## CCL4 NY4 data"
   ]
  },
  {
   "cell_type": "markdown",
   "metadata": {},
   "source": [
    "Import the data from CSV"
   ]
  },
  {
   "cell_type": "code",
   "execution_count": 4,
   "metadata": {
    "collapsed": false
   },
   "outputs": [],
   "source": [
    "ccl4_nya = pd.read_csv('data/CCL4_NYA.csv', header=None,\n",
    "                       names=['time', 'col_density'])"
   ]
  },
  {
   "cell_type": "markdown",
   "metadata": {},
   "source": [
    "The values in the `time` axis are given in decimal years. We first need to express them as real date & time values."
   ]
  },
  {
   "cell_type": "code",
   "execution_count": 5,
   "metadata": {
    "collapsed": false
   },
   "outputs": [
    {
     "data": {
      "text/html": [
       "<div>\n",
       "<table border=\"1\" class=\"dataframe\">\n",
       "  <thead>\n",
       "    <tr style=\"text-align: right;\">\n",
       "      <th></th>\n",
       "      <th>time</th>\n",
       "      <th>col_density</th>\n",
       "    </tr>\n",
       "  </thead>\n",
       "  <tbody>\n",
       "    <tr>\n",
       "      <th>1996-08-05 18:28:48.000001</th>\n",
       "      <td>1996.595</td>\n",
       "      <td>2.121000e+15</td>\n",
       "    </tr>\n",
       "    <tr>\n",
       "      <th>1996-08-05 18:28:48.000001</th>\n",
       "      <td>1996.595</td>\n",
       "      <td>2.165000e+15</td>\n",
       "    </tr>\n",
       "    <tr>\n",
       "      <th>1996-08-05 18:28:48.000001</th>\n",
       "      <td>1996.595</td>\n",
       "      <td>2.140000e+15</td>\n",
       "    </tr>\n",
       "    <tr>\n",
       "      <th>1996-08-05 18:28:48.000001</th>\n",
       "      <td>1996.595</td>\n",
       "      <td>2.138000e+15</td>\n",
       "    </tr>\n",
       "    <tr>\n",
       "      <th>1996-08-05 18:28:48.000001</th>\n",
       "      <td>1996.595</td>\n",
       "      <td>2.119000e+15</td>\n",
       "    </tr>\n",
       "  </tbody>\n",
       "</table>\n",
       "</div>"
      ],
      "text/plain": [
       "                                time   col_density\n",
       "1996-08-05 18:28:48.000001  1996.595  2.121000e+15\n",
       "1996-08-05 18:28:48.000001  1996.595  2.165000e+15\n",
       "1996-08-05 18:28:48.000001  1996.595  2.140000e+15\n",
       "1996-08-05 18:28:48.000001  1996.595  2.138000e+15\n",
       "1996-08-05 18:28:48.000001  1996.595  2.119000e+15"
      ]
     },
     "execution_count": 5,
     "metadata": {},
     "output_type": "execute_result"
    }
   ],
   "source": [
    "def decimal_year_to_datetime(val):\n",
    "    \"\"\"\n",
    "    Convert `val` given in decimal years into a\n",
    "    `datetime.datetime` object, via the computation of the\n",
    "    total duration of the year in seconds.\n",
    "    \"\"\"\n",
    "    year = int(val)\n",
    "    frac = val - year\n",
    "    \n",
    "    year_dt = datetime(year, 1, 1)\n",
    "    year_delta = datetime(year + 1, 1, 1) - year_dt\n",
    "    year_delta_seconds = year_delta.total_seconds()\n",
    "    \n",
    "    return year_dt + timedelta(seconds=year_delta_seconds * frac)\n",
    "\n",
    "\n",
    "decimal_years_to_datetimes = np.vectorize(decimal_year_to_datetime)   \n",
    "\n",
    "# assign the datetimes as index of the dataset\n",
    "ccl4_nya.index = pd.DatetimeIndex(decimal_years_to_datetimes(ccl4_nya['time'].values))\n",
    "\n",
    "\n",
    "ccl4_nya.head()"
   ]
  },
  {
   "cell_type": "markdown",
   "metadata": {},
   "source": [
    "The fit below is performed from the daily mean column densities:"
   ]
  },
  {
   "cell_type": "code",
   "execution_count": 6,
   "metadata": {
    "collapsed": false
   },
   "outputs": [
    {
     "data": {
      "text/html": [
       "<div>\n",
       "<table border=\"1\" class=\"dataframe\">\n",
       "  <thead>\n",
       "    <tr style=\"text-align: right;\">\n",
       "      <th></th>\n",
       "      <th></th>\n",
       "      <th></th>\n",
       "      <th>time</th>\n",
       "      <th>col_density</th>\n",
       "    </tr>\n",
       "  </thead>\n",
       "  <tbody>\n",
       "    <tr>\n",
       "      <th rowspan=\"5\" valign=\"top\">1996</th>\n",
       "      <th rowspan=\"4\" valign=\"top\">8</th>\n",
       "      <th>5</th>\n",
       "      <td>1996.595</td>\n",
       "      <td>2.136600e+15</td>\n",
       "    </tr>\n",
       "    <tr>\n",
       "      <th>14</th>\n",
       "      <td>1996.618</td>\n",
       "      <td>2.163800e+15</td>\n",
       "    </tr>\n",
       "    <tr>\n",
       "      <th>25</th>\n",
       "      <td>1996.649</td>\n",
       "      <td>2.154000e+15</td>\n",
       "    </tr>\n",
       "    <tr>\n",
       "      <th>31</th>\n",
       "      <td>1996.666</td>\n",
       "      <td>2.277143e+15</td>\n",
       "    </tr>\n",
       "    <tr>\n",
       "      <th>9</th>\n",
       "      <th>6</th>\n",
       "      <td>1996.681</td>\n",
       "      <td>2.383000e+15</td>\n",
       "    </tr>\n",
       "  </tbody>\n",
       "</table>\n",
       "</div>"
      ],
      "text/plain": [
       "               time   col_density\n",
       "1996 8 5   1996.595  2.136600e+15\n",
       "       14  1996.618  2.163800e+15\n",
       "       25  1996.649  2.154000e+15\n",
       "       31  1996.666  2.277143e+15\n",
       "     9 6   1996.681  2.383000e+15"
      ]
     },
     "execution_count": 6,
     "metadata": {},
     "output_type": "execute_result"
    }
   ],
   "source": [
    "by_day = [ccl4_nya.index.year, ccl4_nya.index.month, ccl4_nya.index.day]\n",
    "\n",
    "ccl4_nya_daily_means = ccl4_nya.groupby(by_day).apply(np.mean)\n",
    "\n",
    "ccl4_nya_daily_means.head()"
   ]
  },
  {
   "cell_type": "markdown",
   "metadata": {},
   "source": [
    "**Fit trend only (no fourier parameters added to the model), without bootstrapping**. Also express trend as percentage."
   ]
  },
  {
   "cell_type": "code",
   "execution_count": 7,
   "metadata": {
    "collapsed": false
   },
   "outputs": [],
   "source": [
    "x = ccl4_nya_daily_means['time'].values\n",
    "y = ccl4_nya_daily_means['col_density'].values\n",
    "w = np.ones_like(x)\n",
    "fourier_degree = 0   # fit trend only\n",
    "\n",
    "res = fit_driftfourier(x, y, w, fourier_degree)\n",
    "intercept, slope, pfourier, residuals_std = res[0:3] + (res[6],)\n",
    "f_drift, f_fourier, f_driftfourier = res[3:6]\n",
    "slope_percent = get_slope_percent(slope, intercept)"
   ]
  },
  {
   "cell_type": "markdown",
   "metadata": {},
   "source": [
    "Print the results"
   ]
  },
  {
   "cell_type": "code",
   "execution_count": 8,
   "metadata": {
    "collapsed": false
   },
   "outputs": [
    {
     "name": "stdout",
     "output_type": "stream",
     "text": [
      "fitted trend: -1.208E+13 molec./cm2/yr | -0.666 %/yr\n",
      "fitted intercept at xmin: 1.814E+15 molec./cm2\n",
      "fitted fourier parameters: []\n",
      "std of residuals: 3.186E+14 molec./cm2\n"
     ]
    }
   ],
   "source": [
    "print(\"fitted trend: {:.3E} molec./cm2/yr | {:.3f} %/yr\".format(slope, slope_percent))\n",
    "print(\"fitted intercept at xmin: {:.3E} molec./cm2\".format(intercept))\n",
    "print(\"fitted fourier parameters: {}\".format(pfourier))\n",
    "print(\"std of residuals: {:.3E} molec./cm2\".format(residuals_std))"
   ]
  },
  {
   "cell_type": "markdown",
   "metadata": {},
   "source": [
    "Plot data + fitted line"
   ]
  },
  {
   "cell_type": "code",
   "execution_count": 9,
   "metadata": {
    "collapsed": false
   },
   "outputs": [
    {
     "data": {
      "text/plain": [
       "<matplotlib.legend.Legend at 0x7fb9fe7e8278>"
      ]
     },
     "execution_count": 9,
     "metadata": {},
     "output_type": "execute_result"
    },
    {
     "name": "stderr",
     "output_type": "stream",
     "text": [
      "/home/python/miniconda3/envs/main_py34/lib/python3.4/site-packages/matplotlib/collections.py:590: FutureWarning: elementwise comparison failed; returning scalar instead, but in the future will perform elementwise comparison\n",
      "  if self._edgecolors == str('face'):\n"
     ]
    },
    {
     "data": {
      "image/png": "[encoded data removed]",
      "text/plain": [
       "<matplotlib.figure.Figure at 0x7fba008ae1d0>"
      ]
     },
     "metadata": {},
     "output_type": "display_data"
    }
   ],
   "source": [
    "ccl4_nya_daily_means.plot(x='time', y='col_density', kind='scatter', label='data')\n",
    "plt.plot(x, f_drift(x), label='fitted annual trend')\n",
    "plt.plot(x, f_driftfourier(x),\n",
    "         label='fitted annual trend + intra-annual variability')\n",
    "plt.legend()"
   ]
  },
  {
   "cell_type": "markdown",
   "metadata": {},
   "source": [
    "**Fit trend only, with bootstrap resampling**. Compute 2.5% and 97.5% percentiles (i.e., the 95% interval) for each fitted parameter. Compute also the percentiles for trend in %."
   ]
  },
  {
   "cell_type": "code",
   "execution_count": 10,
   "metadata": {
    "collapsed": false
   },
   "outputs": [],
   "source": [
    "ci95_percentiles = (2.5, 97.5)\n",
    "\n",
    "cf, boot_intercept, boot_slope, boot_pfourier = cf_driftfourier(\n",
    "    x, y, w, fourier_degree, nboot=20000,\n",
    "    percentiles=ci95_percentiles\n",
    ")\n",
    "\n",
    "boot_slope_percent = get_slope_percent(boot_slope, boot_intercept)\n",
    "cf['slope_percent'] = np.percentile(boot_slope_percent, ci95_percentiles)"
   ]
  },
  {
   "cell_type": "markdown",
   "metadata": {},
   "source": [
    "Print the results"
   ]
  },
  {
   "cell_type": "code",
   "execution_count": 11,
   "metadata": {
    "collapsed": false
   },
   "outputs": [
    {
     "name": "stdout",
     "output_type": "stream",
     "text": [
      "95% CI for trend: (-2.151E+13, -2.483E+12) molec./cm2/yr\n",
      "95% CI for trend: (-1.142, -0.143) %/yr\n",
      "95% CI for intercept: (1.731E+15, 1.900E+15) molec./cm2\n",
      "percentiles for fourier parameters: []\n"
     ]
    }
   ],
   "source": [
    "print(\"95% CI for trend: ({:.3E}, {:.3E}) molec./cm2/yr\".format(*cf['slope']))\n",
    "print(\"95% CI for trend: ({:.3f}, {:.3f}) %/yr\".format(*cf['slope_percent']))\n",
    "print(\"95% CI for intercept: ({:.3E}, {:.3E}) molec./cm2\".format(*cf['intercept']))\n",
    "print(\"percentiles for fourier parameters: {}\".format(cf['pfourier']))"
   ]
  },
  {
   "cell_type": "markdown",
   "metadata": {},
   "source": [
    "Histograms of the distributions of the annual trend and intercept estimates obtained from bootstrap resampling."
   ]
  },
  {
   "cell_type": "code",
   "execution_count": 12,
   "metadata": {
    "collapsed": false
   },
   "outputs": [
    {
     "data": {
      "image/png": "[encoded data removed]",
      "text/plain": [
       "<matplotlib.figure.Figure at 0x7fba00834550>"
      ]
     },
     "metadata": {},
     "output_type": "display_data"
    }
   ],
   "source": [
    "fig, axes = plt.subplots(1, 3, figsize=(13, 3))\n",
    "\n",
    "def plot_bootdist(v, ax, label):\n",
    "    sns.distributions.distplot(v, ax=ax)\n",
    "    plt.setp(ax, xlabel=label, yticks=[])\n",
    "\n",
    "plot_bootdist(boot_slope, axes[0], 'trend (molec./cm2/yr)')\n",
    "plot_bootdist(boot_slope_percent, axes[1], 'trend (%/yr)')\n",
    "plot_bootdist(boot_intercept, axes[2], 'intercept (molec./cm2)')"
   ]
  },
  {
   "cell_type": "markdown",
   "metadata": {},
   "source": [
    "Plot of daily means vs. raw data"
   ]
  },
  {
   "cell_type": "code",
   "execution_count": 13,
   "metadata": {
    "collapsed": false
   },
   "outputs": [
    {
     "data": {
      "text/plain": [
       "<matplotlib.axes._subplots.AxesSubplot at 0x7fb9fe42f0f0>"
      ]
     },
     "execution_count": 13,
     "metadata": {},
     "output_type": "execute_result"
    },
    {
     "name": "stderr",
     "output_type": "stream",
     "text": [
      "/home/python/miniconda3/envs/main_py34/lib/python3.4/site-packages/matplotlib/collections.py:590: FutureWarning: elementwise comparison failed; returning scalar instead, but in the future will perform elementwise comparison\n",
      "  if self._edgecolors == str('face'):\n"
     ]
    },
    {
     "data": {
      "image/png": "[encoded data removed]",
      "text/plain": [
       "<matplotlib.figure.Figure at 0x7fb9fe7f9128>"
      ]
     },
     "metadata": {},
     "output_type": "display_data"
    }
   ],
   "source": [
    "ccl4_nya_daily_stds = ccl4_nya.groupby(by_day).apply(np.std)\n",
    "ax = plt.subplot(111)\n",
    "\n",
    "ccl4_nya.plot(x='time', y='col_density', kind='scatter', ax=ax,\n",
    "              label='raw measurements')\n",
    "ccl4_nya_daily_means.plot(x='time', y='col_density',\n",
    "                          kind='scatter', ax=ax, color='r',\n",
    "                          label='daily means')"
   ]
  },
  {
   "cell_type": "markdown",
   "metadata": {},
   "source": [
    "Plot of daily mean column densities with errorbars (stdev)."
   ]
  },
  {
   "cell_type": "code",
   "execution_count": 14,
   "metadata": {
    "collapsed": false
   },
   "outputs": [
    {
     "data": {
      "text/plain": [
       "<matplotlib.axes._subplots.AxesSubplot at 0x7fb9fe45f400>"
      ]
     },
     "execution_count": 14,
     "metadata": {},
     "output_type": "execute_result"
    },
    {
     "name": "stderr",
     "output_type": "stream",
     "text": [
      "/home/python/miniconda3/envs/main_py34/lib/python3.4/site-packages/matplotlib/collections.py:590: FutureWarning: elementwise comparison failed; returning scalar instead, but in the future will perform elementwise comparison\n",
      "  if self._edgecolors == str('face'):\n"
     ]
    },
    {
     "data": {
      "image/png": "[encoded data removed]",
      "text/plain": [
       "<matplotlib.figure.Figure at 0x7fba0081ac88>"
      ]
     },
     "metadata": {},
     "output_type": "display_data"
    }
   ],
   "source": [
    "ccl4_nya_daily_stds = ccl4_nya.groupby(by_day).apply(np.std)\n",
    "\n",
    "ccl4_nya_daily_means.plot(x='time', y='col_density',\n",
    "                          kind='scatter', color='r',\n",
    "                          yerr=ccl4_nya_daily_stds)"
   ]
  },
  {
   "cell_type": "code",
   "execution_count": null,
   "metadata": {
    "collapsed": true
   },
   "outputs": [],
   "source": []
  }
 ],
 "metadata": {
  "kernelspec": {
   "display_name": "Main (py34)",
   "language": "python",
   "name": "main_py34"
  },
  "language_info": {
   "codemirror_mode": {
    "name": "ipython",
    "version": 3
   },
   "file_extension": ".py",
   "mimetype": "text/x-python",
   "name": "python",
   "nbconvert_exporter": "python",
   "pygments_lexer": "ipython3",
   "version": "3.4.3"
  }
 },
 "nbformat": 4,
 "nbformat_minor": 0
}
